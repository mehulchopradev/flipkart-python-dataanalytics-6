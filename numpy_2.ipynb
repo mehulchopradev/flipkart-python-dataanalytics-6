{
 "cells": [
  {
   "cell_type": "code",
   "execution_count": 1,
   "metadata": {},
   "outputs": [],
   "source": [
    "import numpy as np"
   ]
  },
  {
   "cell_type": "code",
   "execution_count": 2,
   "metadata": {},
   "outputs": [],
   "source": [
    "marks = [\n",
    "    [98, 99, 100],\n",
    "    [93, 89, 87],\n",
    "    [99, 100, 67]\n",
    "]"
   ]
  },
  {
   "cell_type": "code",
   "execution_count": 6,
   "metadata": {},
   "outputs": [
    {
     "name": "stdout",
     "output_type": "stream",
     "text": [
      "[[ 98  99 100]\n",
      " [ 93  89  87]\n",
      " [ 99 100  67]]\n",
      "<class 'numpy.ndarray'>\n",
      "2\n",
      "(3, 3)\n"
     ]
    }
   ],
   "source": [
    "n1 = np.array(marks)\n",
    "print(n1)\n",
    "print(type(n1))\n",
    "print(n1.ndim)\n",
    "print(n1.shape)"
   ]
  },
  {
   "cell_type": "code",
   "execution_count": 11,
   "metadata": {},
   "outputs": [
    {
     "name": "stdout",
     "output_type": "stream",
     "text": [
      "[ 98  99 100]\n",
      "[[ 98  99 100]\n",
      " [ 99 100  67]]\n",
      "100\n",
      "100\n"
     ]
    }
   ],
   "source": [
    "# indexing\n",
    "print(n1[0])\n",
    "print(n1[[0, -1]])\n",
    "\n",
    "# row + column indexing\n",
    "print(n1[-1][1]) # python way. Not optimal\n",
    "print(n1[-1, 1]) # numpy way and optimal"
   ]
  },
  {
   "cell_type": "code",
   "execution_count": 17,
   "metadata": {},
   "outputs": [
    {
     "name": "stdout",
     "output_type": "stream",
     "text": [
      "[[ 98  99 100]\n",
      " [ 93  89  87]]\n",
      "[[ 99 100]\n",
      " [ 89  87]]\n",
      "[[93 87]\n",
      " [99 67]]\n",
      "[[ 98  99]\n",
      " [ 99 100]]\n"
     ]
    }
   ],
   "source": [
    "# slicing\n",
    "print(n1[:2])\n",
    "print(n1[:2, 1:]) # row + column level slicing too\n",
    "\n",
    "# slicing + indexing\n",
    "print(n1[-2:, [0, -1]]) # row slicing + column multi indexing\n",
    "\n",
    "# indexing + slicing\n",
    "print(n1[[0, -1], :2]) # row multi indexing + column slicing"
   ]
  },
  {
   "cell_type": "code",
   "execution_count": 26,
   "metadata": {},
   "outputs": [
    {
     "name": "stdout",
     "output_type": "stream",
     "text": [
      "[[ 98  99 100]\n",
      " [ 93  89  87]\n",
      " [ 99 100  67]]\n",
      "[[ 98 100]\n",
      " [ 99  67]]\n"
     ]
    }
   ],
   "source": [
    "print(n1)\n",
    "n2 = n1[[0, -1]]\n",
    "print(n2[:, [0, -1]])"
   ]
  },
  {
   "cell_type": "code",
   "execution_count": 21,
   "metadata": {},
   "outputs": [
    {
     "name": "stdout",
     "output_type": "stream",
     "text": [
      "[[ 98  99 100]\n",
      " [ 93  89  87]\n",
      " [ 99 100  67]]\n",
      "[96.66666667 96.         84.66666667]\n",
      "[297 269 266]\n"
     ]
    }
   ],
   "source": [
    "print(n1)\n",
    "print(n1.mean(axis=0))\n",
    "print(n1.sum(axis=1))"
   ]
  },
  {
   "cell_type": "code",
   "execution_count": 28,
   "metadata": {},
   "outputs": [
    {
     "name": "stdout",
     "output_type": "stream",
     "text": [
      "[[ 98  99 100]\n",
      " [ 93  89  87]\n",
      " [ 99 100  67]]\n",
      "[[97 98 99]\n",
      " [92 88 86]\n",
      " [98 99 66]]\n"
     ]
    }
   ],
   "source": [
    "print(n1)\n",
    "n3 = n1 - 1\n",
    "print(n3)"
   ]
  },
  {
   "cell_type": "code",
   "execution_count": 30,
   "metadata": {},
   "outputs": [
    {
     "name": "stdout",
     "output_type": "stream",
     "text": [
      "[[ 98  99 100]\n",
      " [ 93  89  87]\n",
      " [ 99 100  67]]\n",
      "[[ 97  99  99]\n",
      " [ 92  89  86]\n",
      " [ 98 100  66]]\n"
     ]
    }
   ],
   "source": [
    "print(n1)\n",
    "n4 = n1 - [1, 0, 1]\n",
    "print(n4)"
   ]
  },
  {
   "cell_type": "code",
   "execution_count": 32,
   "metadata": {},
   "outputs": [
    {
     "name": "stdout",
     "output_type": "stream",
     "text": [
      "[[ 98  99 100]\n",
      " [ 93  89  87]\n",
      " [ 99 100  67]]\n",
      "[[97 98 99]\n",
      " [93 89 87]\n",
      " [98 99 66]]\n"
     ]
    }
   ],
   "source": [
    "print(n1)\n",
    "n5 = n1 - [[1],\n",
    "          [0],\n",
    "          [1]]\n",
    "print(n5)"
   ]
  },
  {
   "cell_type": "code",
   "execution_count": 33,
   "metadata": {},
   "outputs": [],
   "source": [
    "n6 = np.array([\n",
    "    [4, 3],\n",
    "    [2, 1]\n",
    "])\n",
    "n7 = np.array([\n",
    "    [2, 6],\n",
    "    [9, 4]\n",
    "])"
   ]
  },
  {
   "cell_type": "code",
   "execution_count": 34,
   "metadata": {},
   "outputs": [
    {
     "name": "stdout",
     "output_type": "stream",
     "text": [
      "[[4 3]\n",
      " [2 1]]\n",
      "[[2 6]\n",
      " [9 4]]\n"
     ]
    }
   ],
   "source": [
    "print(n6)\n",
    "print(n7)"
   ]
  },
  {
   "cell_type": "code",
   "execution_count": 39,
   "metadata": {},
   "outputs": [
    {
     "name": "stdout",
     "output_type": "stream",
     "text": [
      "[[ 6  9]\n",
      " [11  5]]\n",
      "[[ 2 -3]\n",
      " [-7 -3]]\n",
      "[[ 8 18]\n",
      " [18  4]]\n",
      "[[35 36]\n",
      " [13 16]]\n"
     ]
    }
   ],
   "source": [
    "print(n6 + n7)\n",
    "print(n6 - n7)\n",
    "print(n6 * n7) # this is not matrix multiplication\n",
    "print(np.dot(n6, n7)) # matrix multiplication"
   ]
  }
 ],
 "metadata": {
  "kernelspec": {
   "display_name": "Python 3",
   "language": "python",
   "name": "python3"
  },
  "language_info": {
   "codemirror_mode": {
    "name": "ipython",
    "version": 3
   },
   "file_extension": ".py",
   "mimetype": "text/x-python",
   "name": "python",
   "nbconvert_exporter": "python",
   "pygments_lexer": "ipython3",
   "version": "3.8.6"
  }
 },
 "nbformat": 4,
 "nbformat_minor": 4
}
