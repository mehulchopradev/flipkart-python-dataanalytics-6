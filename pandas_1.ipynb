{
 "cells": [
  {
   "cell_type": "code",
   "execution_count": 12,
   "metadata": {},
   "outputs": [],
   "source": [
    "from pandas import Series\n",
    "import numpy as np"
   ]
  },
  {
   "cell_type": "code",
   "execution_count": 2,
   "metadata": {},
   "outputs": [],
   "source": [
    "marks = [5, 5, 6, 10, 3, 4, 1]"
   ]
  },
  {
   "cell_type": "code",
   "execution_count": 5,
   "metadata": {},
   "outputs": [
    {
     "name": "stdout",
     "output_type": "stream",
     "text": [
      "0     5\n",
      "1     5\n",
      "2     6\n",
      "3    10\n",
      "4     3\n",
      "5     4\n",
      "6     1\n",
      "dtype: int64\n",
      "RangeIndex(start=0, stop=7, step=1)\n",
      "[ 5  5  6 10  3  4  1]\n"
     ]
    }
   ],
   "source": [
    "s1 = Series(marks)\n",
    "print(s1)\n",
    "print(s1.index)\n",
    "print(s1.values)"
   ]
  },
  {
   "cell_type": "code",
   "execution_count": 13,
   "metadata": {},
   "outputs": [
    {
     "name": "stdout",
     "output_type": "stream",
     "text": [
      "1      5\n",
      "4      5\n",
      "2      6\n",
      "3     10\n",
      "10     3\n",
      "9      4\n",
      "8      1\n",
      "dtype: int8\n",
      "Int64Index([1, 4, 2, 3, 10, 9, 8], dtype='int64')\n",
      "[ 5  5  6 10  3  4  1]\n",
      "int8\n"
     ]
    }
   ],
   "source": [
    "roll = [1, 4, 2, 3, 10, 9, 8]\n",
    "s2 = Series(marks, index=roll, dtype=np.int8)\n",
    "print(s2)\n",
    "print(s2.index)\n",
    "print(s2.values)\n",
    "print(s2.dtype)"
   ]
  },
  {
   "cell_type": "code",
   "execution_count": null,
   "metadata": {},
   "outputs": [],
   "source": []
  },
  {
   "cell_type": "code",
   "execution_count": 7,
   "metadata": {},
   "outputs": [],
   "source": [
    "roll_marks = {1: 4, 5: 10, 3: 2, 6: 8}"
   ]
  },
  {
   "cell_type": "code",
   "execution_count": 8,
   "metadata": {},
   "outputs": [
    {
     "name": "stdout",
     "output_type": "stream",
     "text": [
      "1     4\n",
      "5    10\n",
      "3     2\n",
      "6     8\n",
      "dtype: int64\n"
     ]
    }
   ],
   "source": [
    "s3 = Series(roll_marks)\n",
    "print(s3)"
   ]
  }
 ],
 "metadata": {
  "kernelspec": {
   "display_name": "Python 3",
   "language": "python",
   "name": "python3"
  },
  "language_info": {
   "codemirror_mode": {
    "name": "ipython",
    "version": 3
   },
   "file_extension": ".py",
   "mimetype": "text/x-python",
   "name": "python",
   "nbconvert_exporter": "python",
   "pygments_lexer": "ipython3",
   "version": "3.8.6"
  }
 },
 "nbformat": 4,
 "nbformat_minor": 4
}
