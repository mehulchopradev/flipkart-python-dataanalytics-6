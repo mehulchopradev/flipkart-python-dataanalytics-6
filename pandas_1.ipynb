{
 "cells": [
  {
   "cell_type": "code",
   "execution_count": 12,
   "metadata": {},
   "outputs": [],
   "source": [
    "from pandas import Series\n",
    "import numpy as np"
   ]
  },
  {
   "cell_type": "code",
   "execution_count": 2,
   "metadata": {},
   "outputs": [],
   "source": [
    "marks = [5, 5, 6, 10, 3, 4, 1]"
   ]
  },
  {
   "cell_type": "code",
   "execution_count": 5,
   "metadata": {},
   "outputs": [
    {
     "name": "stdout",
     "output_type": "stream",
     "text": [
      "0     5\n",
      "1     5\n",
      "2     6\n",
      "3    10\n",
      "4     3\n",
      "5     4\n",
      "6     1\n",
      "dtype: int64\n",
      "RangeIndex(start=0, stop=7, step=1)\n",
      "[ 5  5  6 10  3  4  1]\n"
     ]
    }
   ],
   "source": [
    "s1 = Series(marks)\n",
    "print(s1)\n",
    "print(s1.index)\n",
    "print(s1.values)"
   ]
  },
  {
   "cell_type": "code",
   "execution_count": 13,
   "metadata": {},
   "outputs": [
    {
     "name": "stdout",
     "output_type": "stream",
     "text": [
      "1      5\n",
      "4      5\n",
      "2      6\n",
      "3     10\n",
      "10     3\n",
      "9      4\n",
      "8      1\n",
      "dtype: int8\n",
      "Int64Index([1, 4, 2, 3, 10, 9, 8], dtype='int64')\n",
      "[ 5  5  6 10  3  4  1]\n",
      "int8\n"
     ]
    }
   ],
   "source": [
    "roll = [1, 4, 2, 3, 10, 9, 8]\n",
    "s2 = Series(marks, index=roll, dtype=np.int8)\n",
    "print(s2)\n",
    "print(s2.index)\n",
    "print(s2.values)\n",
    "print(s2.dtype)"
   ]
  },
  {
   "cell_type": "code",
   "execution_count": null,
   "metadata": {},
   "outputs": [],
   "source": []
  },
  {
   "cell_type": "code",
   "execution_count": 7,
   "metadata": {},
   "outputs": [],
   "source": [
    "roll_marks = {1: 4, 5: 10, 3: 2, 6: 8}"
   ]
  },
  {
   "cell_type": "code",
   "execution_count": 8,
   "metadata": {},
   "outputs": [
    {
     "name": "stdout",
     "output_type": "stream",
     "text": [
      "1     4\n",
      "5    10\n",
      "3     2\n",
      "6     8\n",
      "dtype: int64\n"
     ]
    }
   ],
   "source": [
    "s3 = Series(roll_marks)\n",
    "print(s3)"
   ]
  },
  {
   "cell_type": "code",
   "execution_count": 19,
   "metadata": {},
   "outputs": [
    {
     "name": "stdout",
     "output_type": "stream",
     "text": [
      "1      5\n",
      "4      5\n",
      "2      6\n",
      "3     10\n",
      "10     3\n",
      "9      4\n",
      "8      1\n",
      "dtype: int8\n",
      "5\n",
      "1\n",
      "1    5\n",
      "8    1\n",
      "dtype: int8\n",
      "10\n",
      "3    10\n",
      "9     4\n",
      "2     6\n",
      "dtype: int8\n"
     ]
    }
   ],
   "source": [
    "# indexing\n",
    "# implicit 0 based row index\n",
    "print(s2)\n",
    "print(s2.iloc[0])\n",
    "print(s2.iloc[-1])\n",
    "print(s2.iloc[[0, -1]])\n",
    "\n",
    "# explicit row index - roll\n",
    "print(s2.loc[3])\n",
    "print(s2.loc[[3, 9, 2]])"
   ]
  },
  {
   "cell_type": "code",
   "execution_count": 26,
   "metadata": {},
   "outputs": [
    {
     "name": "stdout",
     "output_type": "stream",
     "text": [
      "1      5\n",
      "4      5\n",
      "2      6\n",
      "3     10\n",
      "10     3\n",
      "9      4\n",
      "8      1\n",
      "dtype: int8\n",
      "1     5\n",
      "4     5\n",
      "2     6\n",
      "3    10\n",
      "dtype: int8\n",
      "10    3\n",
      "9     4\n",
      "8     1\n",
      "dtype: int8\n",
      "4      5\n",
      "2      6\n",
      "3     10\n",
      "10     3\n",
      "dtype: int8\n"
     ]
    }
   ],
   "source": [
    "# slicing\n",
    "# implicit 0 based row index\n",
    "print(s2)\n",
    "print(s2.iloc[:4])\n",
    "print(s2.iloc[-3:])\n",
    "\n",
    "# explicit row index - roll\n",
    "print(s2.loc[4:10]) # end index is also inclusive"
   ]
  },
  {
   "cell_type": "code",
   "execution_count": 28,
   "metadata": {},
   "outputs": [
    {
     "name": "stdout",
     "output_type": "stream",
     "text": [
      "1      5\n",
      "4      5\n",
      "2      6\n",
      "3     10\n",
      "10     3\n",
      "9      4\n",
      "8      1\n",
      "dtype: int8\n",
      "1     4\n",
      "4     4\n",
      "2     5\n",
      "3     9\n",
      "10    2\n",
      "9     3\n",
      "8     0\n",
      "dtype: int8\n"
     ]
    }
   ],
   "source": [
    "# Arithmetic\n",
    "print(s2)\n",
    "s4 = s2 - 1\n",
    "print(s4)"
   ]
  },
  {
   "cell_type": "code",
   "execution_count": 30,
   "metadata": {},
   "outputs": [
    {
     "name": "stdout",
     "output_type": "stream",
     "text": [
      "1      5\n",
      "4      5\n",
      "2      6\n",
      "3     10\n",
      "10     3\n",
      "9      4\n",
      "8      1\n",
      "dtype: int8\n",
      "1     False\n",
      "4     False\n",
      "2     False\n",
      "3      True\n",
      "10    False\n",
      "9     False\n",
      "8     False\n",
      "dtype: bool\n"
     ]
    }
   ],
   "source": [
    "# relational operators\n",
    "print(s2)\n",
    "s5 = s2 == 10\n",
    "print(s5)"
   ]
  },
  {
   "cell_type": "code",
   "execution_count": 33,
   "metadata": {},
   "outputs": [
    {
     "name": "stdout",
     "output_type": "stream",
     "text": [
      "1      5\n",
      "4      5\n",
      "2      6\n",
      "3     10\n",
      "10     3\n",
      "9      4\n",
      "8      1\n",
      "dtype: int8\n",
      "2     6\n",
      "3    10\n",
      "dtype: int8\n"
     ]
    }
   ],
   "source": [
    "# filtering\n",
    "print(s2)\n",
    "s6 = s2[s2 > 5]\n",
    "print(s6)"
   ]
  },
  {
   "cell_type": "code",
   "execution_count": 38,
   "metadata": {},
   "outputs": [
    {
     "name": "stdout",
     "output_type": "stream",
     "text": [
      "1      5\n",
      "4      5\n",
      "2      6\n",
      "3     10\n",
      "10     3\n",
      "9      4\n",
      "8      1\n",
      "dtype: int8\n",
      "10     3\n",
      "9      4\n",
      "8      1\n",
      "4      5\n",
      "3     10\n",
      "2      6\n",
      "1      5\n",
      "dtype: int8\n",
      "3     10\n",
      "2      6\n",
      "4      5\n",
      "1      5\n",
      "9      4\n",
      "10     3\n",
      "8      1\n",
      "dtype: int8\n"
     ]
    }
   ],
   "source": [
    "print(s2)\n",
    "s7 = s2.sort_index(ascending=False)\n",
    "print(s7)\n",
    "s8 = s2.sort_values(ascending=False)\n",
    "print(s8)"
   ]
  },
  {
   "cell_type": "code",
   "execution_count": 44,
   "metadata": {},
   "outputs": [
    {
     "name": "stdout",
     "output_type": "stream",
     "text": [
      "1      5\n",
      "4      5\n",
      "2      6\n",
      "3     10\n",
      "10     3\n",
      "9      4\n",
      "8      1\n",
      "dtype: int8\n",
      "[ 5  6 10  3  4  1]\n",
      "1     1\n",
      "3     1\n",
      "4     1\n",
      "5     2\n",
      "6     1\n",
      "10    1\n",
      "dtype: int64\n"
     ]
    }
   ],
   "source": [
    "print(s2)\n",
    "print(s2.unique())\n",
    "s9 = s2.value_counts(ascending=True)\n",
    "s10 = s9.sort_index(ascending=True)\n",
    "print(s10)"
   ]
  },
  {
   "cell_type": "code",
   "execution_count": 47,
   "metadata": {},
   "outputs": [
    {
     "data": {
      "text/plain": [
       "<AxesSubplot:>"
      ]
     },
     "execution_count": 47,
     "metadata": {},
     "output_type": "execute_result"
    },
    {
     "data": {
      "image/png": "[encoded data removed]",
      "text/plain": [
       "<Figure size 432x288 with 1 Axes>"
      ]
     },
     "metadata": {
      "needs_background": "light"
     },
     "output_type": "display_data"
    }
   ],
   "source": [
    "s10.plot(kind='bar')"
   ]
  },
  {
   "cell_type": "code",
   "execution_count": 49,
   "metadata": {},
   "outputs": [
    {
     "name": "stdout",
     "output_type": "stream",
     "text": [
      "1      5\n",
      "4      5\n",
      "2      6\n",
      "3     10\n",
      "10     3\n",
      "9      4\n",
      "8      1\n",
      "dtype: int8\n",
      "1\n",
      "10\n",
      "4.857142857142857\n",
      "5.0\n",
      "0    5\n",
      "dtype: int8\n",
      "2.7945525240230875\n",
      "7.809523809523809\n"
     ]
    }
   ],
   "source": [
    "# descriptive statistics\n",
    "print(s2)\n",
    "print(s2.min())\n",
    "print(s2.max())\n",
    "print(s2.mean())\n",
    "print(s2.median())\n",
    "print(s2.mode())\n",
    "print(s2.std())\n",
    "print(s2.var())"
   ]
  },
  {
   "cell_type": "code",
   "execution_count": 52,
   "metadata": {},
   "outputs": [
    {
     "name": "stdout",
     "output_type": "stream",
     "text": [
      "count     7.000000\n",
      "mean      4.857143\n",
      "std       2.794553\n",
      "min       1.000000\n",
      "25%       3.500000\n",
      "50%       5.000000\n",
      "75%       5.500000\n",
      "max      10.000000\n",
      "dtype: float64\n"
     ]
    },
    {
     "data": {
      "text/plain": [
       "4.857142857142857"
      ]
     },
     "execution_count": 52,
     "metadata": {},
     "output_type": "execute_result"
    }
   ],
   "source": [
    "s11 = s2.describe()\n",
    "print(s11)\n",
    "s11.loc['mean']"
   ]
  },
  {
   "cell_type": "code",
   "execution_count": 53,
   "metadata": {},
   "outputs": [
    {
     "name": "stdout",
     "output_type": "stream",
     "text": [
      "1    3\n",
      "2    4\n",
      "3    1\n",
      "4    5\n",
      "dtype: int64\n"
     ]
    }
   ],
   "source": [
    "s12 = Series({\n",
    "    1: 3,\n",
    "    2: 4,\n",
    "    3: 1,\n",
    "    4: 5,\n",
    "})\n",
    "print(s12)"
   ]
  },
  {
   "cell_type": "code",
   "execution_count": 55,
   "metadata": {},
   "outputs": [
    {
     "name": "stdout",
     "output_type": "stream",
     "text": [
      "1     3\n",
      "2     7\n",
      "3     8\n",
      "4    13\n",
      "dtype: int64\n",
      "1     3\n",
      "2    12\n",
      "3    12\n",
      "4    60\n",
      "dtype: int64\n"
     ]
    }
   ],
   "source": [
    "print(s12.cumsum())\n",
    "print(s12.cumprod())"
   ]
  },
  {
   "cell_type": "code",
   "execution_count": 56,
   "metadata": {},
   "outputs": [
    {
     "name": "stdout",
     "output_type": "stream",
     "text": [
      "0    23.0\n",
      "1    24.5\n",
      "2    23.5\n",
      "3     NaN\n",
      "4    24.0\n",
      "5    25.5\n",
      "dtype: float64\n"
     ]
    }
   ],
   "source": [
    "s13 = Series([23, 24.5, 23.5, None, 24, 25.5])\n",
    "print(s13)"
   ]
  },
  {
   "cell_type": "code",
   "execution_count": 57,
   "metadata": {},
   "outputs": [
    {
     "name": "stdout",
     "output_type": "stream",
     "text": [
      "0    23.0\n",
      "1    24.5\n",
      "2    23.5\n",
      "4    24.0\n",
      "5    25.5\n",
      "dtype: float64\n"
     ]
    }
   ],
   "source": [
    "# drop off the missing data\n",
    "s14 = s13.dropna()\n",
    "print(s14)"
   ]
  },
  {
   "cell_type": "code",
   "execution_count": 58,
   "metadata": {},
   "outputs": [
    {
     "name": "stdout",
     "output_type": "stream",
     "text": [
      "0    23.0\n",
      "1    24.5\n",
      "2    23.5\n",
      "3    23.0\n",
      "4    24.0\n",
      "5    25.5\n",
      "dtype: float64\n"
     ]
    }
   ],
   "source": [
    "# fill the missing data with default value\n",
    "s15 = s13.fillna(23)\n",
    "print(s15)"
   ]
  },
  {
   "cell_type": "code",
   "execution_count": 59,
   "metadata": {},
   "outputs": [
    {
     "data": {
      "text/plain": [
       "0    23.0\n",
       "1    24.5\n",
       "2    23.5\n",
       "3    23.5\n",
       "4    24.0\n",
       "5    25.5\n",
       "dtype: float64"
      ]
     },
     "execution_count": 59,
     "metadata": {},
     "output_type": "execute_result"
    }
   ],
   "source": [
    "# interpolation of the missing data based on previous data\n",
    "s16 = s13.ffill()\n",
    "s16"
   ]
  },
  {
   "cell_type": "code",
   "execution_count": 60,
   "metadata": {},
   "outputs": [
    {
     "data": {
      "text/plain": [
       "0    23.0\n",
       "1    24.5\n",
       "2    23.5\n",
       "3    24.0\n",
       "4    24.0\n",
       "5    25.5\n",
       "dtype: float64"
      ]
     },
     "execution_count": 60,
     "metadata": {},
     "output_type": "execute_result"
    }
   ],
   "source": [
    "s17 = s13.bfill()\n",
    "s17"
   ]
  }
 ],
 "metadata": {
  "kernelspec": {
   "display_name": "Python 3",
   "language": "python",
   "name": "python3"
  },
  "language_info": {
   "codemirror_mode": {
    "name": "ipython",
    "version": 3
   },
   "file_extension": ".py",
   "mimetype": "text/x-python",
   "name": "python",
   "nbconvert_exporter": "python",
   "pygments_lexer": "ipython3",
   "version": "3.8.6"
  }
 },
 "nbformat": 4,
 "nbformat_minor": 4
}
