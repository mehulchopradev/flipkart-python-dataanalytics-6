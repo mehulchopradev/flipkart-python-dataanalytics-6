{
 "cells": [
  {
   "cell_type": "code",
   "execution_count": 43,
   "metadata": {},
   "outputs": [],
   "source": [
    "import numpy as np"
   ]
  },
  {
   "cell_type": "code",
   "execution_count": 44,
   "metadata": {},
   "outputs": [],
   "source": [
    "marks = [4, 5, 4, 10, 7, 8, 10, 1, 2, 4, 6]"
   ]
  },
  {
   "cell_type": "code",
   "execution_count": 45,
   "metadata": {},
   "outputs": [
    {
     "name": "stdout",
     "output_type": "stream",
     "text": [
      "<class 'numpy.ndarray'>\n",
      "[ 4  5  4 10  7  8 10  1  2  4  6]\n",
      "[4, 5, 4, 10, 7, 8, 10, 1, 2, 4, 6]\n",
      "1\n",
      "(11,)\n",
      "int8\n"
     ]
    }
   ],
   "source": [
    "# ndarray\n",
    "n1 = np.array(marks, dtype=np.int8)\n",
    "print(type(n1))\n",
    "print(n1)\n",
    "print(marks)\n",
    "print(n1.ndim)\n",
    "print(n1.shape)\n",
    "print(n1.dtype)"
   ]
  },
  {
   "cell_type": "code",
   "execution_count": 46,
   "metadata": {},
   "outputs": [
    {
     "name": "stdout",
     "output_type": "stream",
     "text": [
      "4\n",
      "5\n",
      "6\n",
      "2\n",
      "[4 6]\n"
     ]
    }
   ],
   "source": [
    "# indexing\n",
    "print(n1[0])\n",
    "print(n1[1])\n",
    "print(n1[-1])\n",
    "print(n1[-3])\n",
    "\n",
    "# multiindexing\n",
    "print(n1[[0, -1]])"
   ]
  },
  {
   "cell_type": "code",
   "execution_count": 47,
   "metadata": {},
   "outputs": [
    {
     "name": "stdout",
     "output_type": "stream",
     "text": [
      "[ 4  5  6 10  7  8 10  1  2  4  6]\n",
      "[ 6  5  6 10  7  8 10  1  2  4  4]\n"
     ]
    }
   ],
   "source": [
    "# indexing + modification\n",
    "n1[2] = 6\n",
    "print(n1)\n",
    "\n",
    "# multiindexing + modification\n",
    "n1[[0, -1]] = [n1[-1], n1[0]]\n",
    "print(n1)"
   ]
  },
  {
   "cell_type": "code",
   "execution_count": 48,
   "metadata": {},
   "outputs": [
    {
     "name": "stdout",
     "output_type": "stream",
     "text": [
      "[ 6  5  6 10  7  8 10  1  0  0  4]\n"
     ]
    }
   ],
   "source": [
    "n1[[-2, -3]] = 0\n",
    "print(n1)"
   ]
  },
  {
   "cell_type": "code",
   "execution_count": 49,
   "metadata": {},
   "outputs": [
    {
     "name": "stdout",
     "output_type": "stream",
     "text": [
      "[ 6  5  6 10  7  8 10  1  0  0  4]\n",
      "[6 5 6]\n",
      "[6 5 6]\n",
      "[10  7  8 10  1  0  0  4]\n",
      "[1 0 0 4]\n",
      "[1 0 0]\n"
     ]
    }
   ],
   "source": [
    "# slicing\n",
    "print(n1)\n",
    "print(n1[0:3])\n",
    "print(n1[:3])\n",
    "print(n1[3:])\n",
    "\n",
    "# negative slicing\n",
    "print(n1[-4:])\n",
    "print(n1[-4:-1])"
   ]
  },
  {
   "cell_type": "code",
   "execution_count": 50,
   "metadata": {},
   "outputs": [
    {
     "name": "stdout",
     "output_type": "stream",
     "text": [
      "[ 6  5  6 10  7  8 10  1  0  0  4]\n",
      "[ 0  0  6 10  7  8 10  1  0  0  4]\n"
     ]
    }
   ],
   "source": [
    "# slicing + modification\n",
    "print(n1)\n",
    "n1[:2] = 0\n",
    "print(n1)"
   ]
  },
  {
   "cell_type": "code",
   "execution_count": 51,
   "metadata": {},
   "outputs": [
    {
     "name": "stdout",
     "output_type": "stream",
     "text": [
      "[ 0  0  6 10  7  8 10  1  0  0  4]\n",
      "[ 4  0  0  1 10  8  7 10  6  0  0]\n"
     ]
    }
   ],
   "source": [
    "print(n1)\n",
    "print(n1[::-1])"
   ]
  },
  {
   "cell_type": "code",
   "execution_count": 52,
   "metadata": {},
   "outputs": [
    {
     "name": "stdout",
     "output_type": "stream",
     "text": [
      "[ 0  0  6 10  7  8 10  1  0  0  4]\n",
      "[-1 -1  5  9  6  7  9  0 -1 -1  3]\n",
      "[  0   0  36 100  49  64 100   1   0   0  16]\n"
     ]
    }
   ],
   "source": [
    "# arithmetic operations\n",
    "print(n1)\n",
    "n2 = n1 - 1\n",
    "print(n2)\n",
    "n3 = n1 ** 2\n",
    "print(n3)"
   ]
  },
  {
   "cell_type": "code",
   "execution_count": 53,
   "metadata": {},
   "outputs": [
    {
     "name": "stdout",
     "output_type": "stream",
     "text": [
      "[ 0  0  6 10  7  8 10  1  0  0  4]\n",
      "[False False False  True False False  True False False False False]\n",
      "[ True  True False  True False False  True  True  True  True  True]\n"
     ]
    }
   ],
   "source": [
    "# relational operations\n",
    "print(n1)\n",
    "n4 = n1 == 10\n",
    "print(n4)\n",
    "n5 = (n1 == 10) | (n1 < 5)\n",
    "print(n5)"
   ]
  },
  {
   "cell_type": "code",
   "execution_count": 57,
   "metadata": {},
   "outputs": [
    {
     "name": "stdout",
     "output_type": "stream",
     "text": [
      "[ 0  0  6 10  7  8 10  1  0  0  4]\n",
      "[ 6 10  7  8 10]\n",
      "[ 0  0 10 10  1  0  0  4]\n"
     ]
    }
   ],
   "source": [
    "# filtering\n",
    "print(n1)\n",
    "n6 = n1[n1 > 5]\n",
    "print(n6)\n",
    "\n",
    "n7 = n1[(n1 == 10) | (n1 < 5)]\n",
    "print(n7)"
   ]
  },
  {
   "cell_type": "code",
   "execution_count": 64,
   "metadata": {},
   "outputs": [
    {
     "name": "stdout",
     "output_type": "stream",
     "text": [
      "[ 0  0  6 10  7  8 10  1  0  0  4]\n",
      "0\n",
      "10\n",
      "4.181818181818182\n",
      "4.0\n",
      "3.9730497060749377\n",
      "15.785123966942148\n"
     ]
    }
   ],
   "source": [
    "# descriptive statistics\n",
    "print(n1)\n",
    "print(n1.min())\n",
    "print(n1.max())\n",
    "print(n1.mean())\n",
    "print(np.median(n1))\n",
    "print(n1.std())\n",
    "print(n1.var())"
   ]
  },
  {
   "cell_type": "code",
   "execution_count": 68,
   "metadata": {},
   "outputs": [
    {
     "name": "stdout",
     "output_type": "stream",
     "text": [
      "[ 0  0  6 10  7  8 10  1  0  0  4]\n",
      "[ 0  1  4  6  7  8 10]\n",
      "(array([ 0,  1,  4,  6,  7,  8, 10], dtype=int8), array([4, 1, 1, 1, 1, 1, 2]))\n"
     ]
    }
   ],
   "source": [
    "print(n1)\n",
    "print(np.unique(n1))\n",
    "print(np.unique(n1, return_counts=True))"
   ]
  },
  {
   "cell_type": "code",
   "execution_count": 71,
   "metadata": {},
   "outputs": [
    {
     "name": "stdout",
     "output_type": "stream",
     "text": [
      "[ 0  0  6 10  7  8 10  1  0  0  4]\n",
      "[10 10  8  7  6  4  1  0  0  0  0]\n"
     ]
    }
   ],
   "source": [
    "print(n1)\n",
    "n8 = np.sort(n1)[::-1]\n",
    "print(n8)"
   ]
  },
  {
   "cell_type": "code",
   "execution_count": 73,
   "metadata": {},
   "outputs": [
    {
     "name": "stdout",
     "output_type": "stream",
     "text": [
      "[ 0  0  6 10  7  8 10  1  0  0  4]\n",
      "[0 0 0 1 1 1 1 0 0 0 0]\n"
     ]
    }
   ],
   "source": [
    "print(n1)\n",
    "# categorize\n",
    "n9 = np.where(n1 > 6, 1, 0)\n",
    "print(n9)"
   ]
  },
  {
   "cell_type": "code",
   "execution_count": null,
   "metadata": {},
   "outputs": [],
   "source": []
  }
 ],
 "metadata": {
  "kernelspec": {
   "display_name": "Python 3",
   "language": "python",
   "name": "python3"
  },
  "language_info": {
   "codemirror_mode": {
    "name": "ipython",
    "version": 3
   },
   "file_extension": ".py",
   "mimetype": "text/x-python",
   "name": "python",
   "nbconvert_exporter": "python",
   "pygments_lexer": "ipython3",
   "version": "3.8.6"
  }
 },
 "nbformat": 4,
 "nbformat_minor": 4
}
